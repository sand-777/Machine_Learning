{
 "cells": [
  {
   "cell_type": "code",
   "execution_count": 5,
   "id": "4b114e21-fff8-4609-a5f5-0e23fa57c33e",
   "metadata": {},
   "outputs": [],
   "source": [
    "import pandas as pd\n",
    "from sklearn.datasets import load_digits\n",
    "from sklearn import svm\n",
    "from sklearn.ensemble import RandomForestClassifier\n",
    "from sklearn.linear_model import LogisticRegression\n",
    "from sklearn.naive_bayes import GaussianNB\n",
    "from sklearn.naive_bayes import MultinomialNB\n",
    "from sklearn.tree import DecisionTreeClassifier"
   ]
  },
  {
   "cell_type": "code",
   "execution_count": 6,
   "id": "89f4feba-1115-452a-a127-b5bf17cf1792",
   "metadata": {},
   "outputs": [],
   "source": [
    "digits = load_digits()"
   ]
  },
  {
   "cell_type": "code",
   "execution_count": 7,
   "id": "c1085e7a-c5b3-4292-bee9-25f2299f570f",
   "metadata": {},
   "outputs": [
    {
     "data": {
      "text/plain": [
       "array([[ 0.,  0.,  5., ...,  0.,  0.,  0.],\n",
       "       [ 0.,  0.,  0., ..., 10.,  0.,  0.],\n",
       "       [ 0.,  0.,  0., ..., 16.,  9.,  0.],\n",
       "       ...,\n",
       "       [ 0.,  0.,  1., ...,  6.,  0.,  0.],\n",
       "       [ 0.,  0.,  2., ..., 12.,  0.,  0.],\n",
       "       [ 0.,  0., 10., ..., 12.,  1.,  0.]])"
      ]
     },
     "execution_count": 7,
     "metadata": {},
     "output_type": "execute_result"
    }
   ],
   "source": [
    "digits.data"
   ]
  },
  {
   "cell_type": "code",
   "execution_count": 8,
   "id": "f3472393-5aa7-4d14-bfbf-c9c5120d03a8",
   "metadata": {},
   "outputs": [],
   "source": [
    "from sklearn.model_selection import train_test_split"
   ]
  },
  {
   "cell_type": "code",
   "execution_count": 9,
   "id": "6a76ac03-9e41-41cf-9cac-d2f793626ecd",
   "metadata": {},
   "outputs": [],
   "source": [
    "X_train, X_test, y_train, y_test = train_test_split(digits.data,digits.target,test_size=0.25)"
   ]
  },
  {
   "cell_type": "code",
   "execution_count": 16,
   "id": "385d7f84-9c78-4c57-9282-e571ee4b0fe0",
   "metadata": {},
   "outputs": [],
   "source": [
    "from sklearn.model_selection import GridSearchCV"
   ]
  },
  {
   "cell_type": "code",
   "execution_count": 49,
   "id": "99adf375-30b6-4755-9ac6-f806f41614c1",
   "metadata": {},
   "outputs": [
    {
     "name": "stdout",
     "output_type": "stream",
     "text": [
      "SVC(gamma='auto')\n",
      "RandomForestClassifier()\n",
      "LogisticRegression(max_iter=1000)\n",
      "GaussianNB()\n",
      "MultinomialNB()\n",
      "DecisionTreeClassifier()\n"
     ]
    }
   ],
   "source": [
    "model_params = {\n",
    "    'svm' : {\n",
    "        'model': svm.SVC(gamma='auto'),\n",
    "        'params' : {\n",
    "            'C' : [1,10,20],\n",
    "            'kernel' : ['linear', 'rbf']\n",
    "        }\n",
    "   \n",
    "    },\n",
    "\n",
    "     'rfc' : {\n",
    "        'model' : RandomForestClassifier(),\n",
    "        'params' : {\n",
    "            'n_estimators' : [10,5,10],\n",
    "        }\n",
    "        \n",
    "    },\n",
    "\n",
    "    'log_reg' : {\n",
    "        'model' : LogisticRegression(max_iter=1000),\n",
    "        'params' : {\n",
    "            'C' : [1,5,10],\n",
    "            'solver' : ['liblinear']\n",
    "        }\n",
    "    },\n",
    "\n",
    "    'gaussian' : {\n",
    "        'model' : GaussianNB(),\n",
    "        'params' : {\n",
    "            \n",
    "        }\n",
    "        \n",
    "    },\n",
    "\n",
    "    'multinomial': {\n",
    "        'model' : MultinomialNB(),\n",
    "        'params' : {\n",
    "            \n",
    "        }\n",
    "    },\n",
    "\n",
    "    'decision_tree' : {\n",
    "        'model' : DecisionTreeClassifier(),\n",
    "        'params' : {\n",
    "            'criterion' : [\"gini\", \"entropy\"]\n",
    "        }\n",
    "    }\n",
    "    \n",
    "}\n",
    "for model_name,mp in model_params.items():\n",
    "    print(mp['model'])\n"
   ]
  },
  {
   "cell_type": "code",
   "execution_count": 53,
   "id": "902c8e08-1714-4534-b39e-019f3e939dbe",
   "metadata": {},
   "outputs": [],
   "source": [
    "scores = []\n",
    "for model_name,mp in model_params.items():\n",
    "    clf = GridSearchCV(mp['model'],mp['params'],cv=5,return_train_score=False)\n",
    "    clf.fit(digits.data,digits.target)\n",
    "    scores.append({\n",
    "        'model' : model_name,\n",
    "        'best_score' : clf.best_score_,\n",
    "        'best_params': clf.best_params_\n",
    "    })\n",
    "\n",
    "df = pd.DataFrame(scores,columns=['model','best_score','best_params'])\n",
    "    \n",
    "\n",
    "    \n",
    "\n",
    "\n",
    "\n"
   ]
  },
  {
   "cell_type": "code",
   "execution_count": 54,
   "id": "545d07e3-ff9a-4052-add6-509ea360855e",
   "metadata": {},
   "outputs": [
    {
     "data": {
      "text/html": [
       "<div>\n",
       "<style scoped>\n",
       "    .dataframe tbody tr th:only-of-type {\n",
       "        vertical-align: middle;\n",
       "    }\n",
       "\n",
       "    .dataframe tbody tr th {\n",
       "        vertical-align: top;\n",
       "    }\n",
       "\n",
       "    .dataframe thead th {\n",
       "        text-align: right;\n",
       "    }\n",
       "</style>\n",
       "<table border=\"1\" class=\"dataframe\">\n",
       "  <thead>\n",
       "    <tr style=\"text-align: right;\">\n",
       "      <th></th>\n",
       "      <th>model</th>\n",
       "      <th>best_score</th>\n",
       "      <th>best_params</th>\n",
       "    </tr>\n",
       "  </thead>\n",
       "  <tbody>\n",
       "    <tr>\n",
       "      <th>0</th>\n",
       "      <td>svm</td>\n",
       "      <td>0.947697</td>\n",
       "      <td>{'C': 1, 'kernel': 'linear'}</td>\n",
       "    </tr>\n",
       "    <tr>\n",
       "      <th>1</th>\n",
       "      <td>rfc</td>\n",
       "      <td>0.898745</td>\n",
       "      <td>{'n_estimators': 10}</td>\n",
       "    </tr>\n",
       "    <tr>\n",
       "      <th>2</th>\n",
       "      <td>log_reg</td>\n",
       "      <td>0.922114</td>\n",
       "      <td>{'C': 1, 'solver': 'liblinear'}</td>\n",
       "    </tr>\n",
       "    <tr>\n",
       "      <th>3</th>\n",
       "      <td>gaussian</td>\n",
       "      <td>0.806928</td>\n",
       "      <td>{}</td>\n",
       "    </tr>\n",
       "    <tr>\n",
       "      <th>4</th>\n",
       "      <td>multinomial</td>\n",
       "      <td>0.870350</td>\n",
       "      <td>{}</td>\n",
       "    </tr>\n",
       "    <tr>\n",
       "      <th>5</th>\n",
       "      <td>decision_tree</td>\n",
       "      <td>0.807471</td>\n",
       "      <td>{'criterion': 'entropy'}</td>\n",
       "    </tr>\n",
       "  </tbody>\n",
       "</table>\n",
       "</div>"
      ],
      "text/plain": [
       "           model  best_score                      best_params\n",
       "0            svm    0.947697     {'C': 1, 'kernel': 'linear'}\n",
       "1            rfc    0.898745             {'n_estimators': 10}\n",
       "2        log_reg    0.922114  {'C': 1, 'solver': 'liblinear'}\n",
       "3       gaussian    0.806928                               {}\n",
       "4    multinomial    0.870350                               {}\n",
       "5  decision_tree    0.807471         {'criterion': 'entropy'}"
      ]
     },
     "execution_count": 54,
     "metadata": {},
     "output_type": "execute_result"
    }
   ],
   "source": [
    "df"
   ]
  },
  {
   "cell_type": "code",
   "execution_count": null,
   "id": "487ec656-0e42-41c7-b62f-5307793a589d",
   "metadata": {},
   "outputs": [],
   "source": []
  }
 ],
 "metadata": {
  "kernelspec": {
   "display_name": "Python 3 (ipykernel)",
   "language": "python",
   "name": "python3"
  },
  "language_info": {
   "codemirror_mode": {
    "name": "ipython",
    "version": 3
   },
   "file_extension": ".py",
   "mimetype": "text/x-python",
   "name": "python",
   "nbconvert_exporter": "python",
   "pygments_lexer": "ipython3",
   "version": "3.12.5"
  }
 },
 "nbformat": 4,
 "nbformat_minor": 5
}
